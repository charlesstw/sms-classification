{
 "cells": [
  {
   "cell_type": "code",
   "execution_count": null,
   "metadata": {
    "id": "ltpbJIf8U0Qs"
   },
   "outputs": [
    {
     "name": "stdout",
     "output_type": "stream",
     "text": [
      "✅ 預測完成，已輸出為 sms_with_name_predictions.csv\n"
     ]
    }
   ],
   "source": [
    "import pandas as pd\n",
    "from zipfile import ZipFile\n",
    "from transformers import AutoTokenizer, BertForSequenceClassification\n",
    "import torch\n",
    "from torch.nn.functional import softmax\n",
    "\n",
    "### 0. 上傳要檢查的 csv 檔 sms.csv ###\n",
    "###    上傳 train_name 產出的模型 zip ###\n",
    "# === 1. 解壓縮模型 zip（可略過若已解壓）\n",
    "# with ZipFile(\"/content/model_results.zip\", 'r') as zip_ref:\n",
    "    # zip_ref.extractall(\"results\")\n",
    "\n",
    "# === 2. 載入模型與 tokenizer\n",
    "dir = \"./results/final\"\n",
    "tokenizer = AutoTokenizer.from_pretrained(dir)\n",
    "model = BertForSequenceClassification.from_pretrained(dir)\n",
    "model.eval()\n",
    "\n",
    "# === 3. 讀取 CSV 檔案（包含簡訊文字欄位）\n",
    "df = pd.read_csv(\"已驗證0709/naming_0_3w.csv\")  # ✅ 你要預測的簡訊 CSV 檔案\n",
    "assert \"text\" in df.columns, \"⚠️ 請確認你的 CSV 包含 text 欄位\"\n",
    "\n",
    "# === 4. 定義預測函式（回傳類別與類別1機率%）\n",
    "def predict_person_name_with_prob(text):\n",
    "    if not isinstance(text, str) or text.strip() == \"\":\n",
    "        return pd.Series([0, 0.0])  # 預設不含分類、機率為 0%\n",
    "\n",
    "    inputs = tokenizer(\n",
    "        text,\n",
    "        return_tensors=\"pt\",\n",
    "        truncation=True,\n",
    "        padding=True,\n",
    "        max_length=128\n",
    "    )\n",
    "\n",
    "    with torch.no_grad():\n",
    "        outputs = model(**inputs)\n",
    "        logits = outputs.logits\n",
    "        probs = softmax(logits, dim=1).squeeze().tolist()  # 轉為機率\n",
    "        predicted_label = torch.argmax(logits, dim=1).item()\n",
    "        prob_person_name = round(probs[1] * 100, 2)  # 類別 1 的機率 (%)\n",
    "\n",
    "    return pd.Series([predicted_label, prob_person_name])\n",
    "\n",
    "# === 5. 套用到整個欄位，新增兩欄\n",
    "df[[\"has_person_name\", \"prob_person_name_percent\"]] = df[\"text\"].apply(predict_person_name_with_prob)\n",
    "\n",
    "# === 6. 輸出結果到新的 CSV 檔\n",
    "df.to_csv(\"sms_with_name_predictions.csv\", index=False)\n",
    "print(\"✅ 預測完成，已輸出為 sms_with_name_predictions.csv\")\n",
    "\n",
    "\n",
    "# # 📌 測試範例\n",
    "# test_samples = [\n",
    "#     \"👧\",\n",
    "#     \"沈嘉儀明天見，記得帶毛巾、水、補給品。\",\n",
    "#     \"預-Niseko羊蹄山杯送達六張黎店，限量編號A029205310請前往取貨，可至全家APP首頁>包裹查詢\",\n",
    "#     \"【大樹速貸】最快5分鐘資金入袋!親愛的王先生，國泰世華銀行幫您馬上解決資金煩惱，數位申貸超簡單。資金快速入袋 https://cathaybk.tw/C3ACZ78YJ 。總費用年百分率3.62%~17.09%。\",\n",
    "# ]\n",
    "\n",
    "# print(\"\\n📊 預測結果：\")\n",
    "# for text in test_samples:\n",
    "#     print(f\"👉 『{text}』 → {predict_person_name(text)}\")\n",
    "\n",
    "\n",
    "# # 先找出 text 是空字串或空白的 row\n",
    "# empty_or_null_mask = df[\"text\"].isna()\n",
    "# empty_text_ids = df[empty_or_null_mask][\"Id\"]\n",
    "\n",
    "# # 印出來\n",
    "# for eid in empty_text_ids:\n",
    "#     print(f\"Empty text at ID: {eid}\")"
   ]
  }
 ],
 "metadata": {
  "colab": {
   "authorship_tag": "ABX9TyMJkPnlVwbhsJ+SIQrfLaTM",
   "provenance": []
  },
  "kernelspec": {
   "display_name": ".venv",
   "language": "python",
   "name": "python3"
  },
  "language_info": {
   "codemirror_mode": {
    "name": "ipython",
    "version": 3
   },
   "file_extension": ".py",
   "mimetype": "text/x-python",
   "name": "python",
   "nbconvert_exporter": "python",
   "pygments_lexer": "ipython3",
   "version": "3.13.2"
  }
 },
 "nbformat": 4,
 "nbformat_minor": 0
}
