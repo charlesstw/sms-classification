{
 "cells": [
  {
   "cell_type": "code",
   "execution_count": null,
   "metadata": {
    "id": "ltpbJIf8U0Qs"
   },
   "outputs": [],
   "source": [
    "from transformers import AutoTokenizer, BertForSequenceClassification\n",
    "import torch\n",
    "\n",
    "# 📌 載入模型與 tokenizer\n",
    "model_dir = \"./results\"  # 如果你是放在其他資料夾，請改這裡\n",
    "tokenizer_dir = \"./results\"\n",
    "# tokenizer = AutoTokenizer.from_pretrained(\"bert-base-chinese\")  # ✅ 重新從 huggingface 下載\n",
    "tokenizer = AutoTokenizer.from_pretrained(tokenizer_dir)\n",
    "model = BertForSequenceClassification.from_pretrained(model_dir)\n",
    "\n",
    "# ✅ 切換到評估模式\n",
    "model.eval()\n",
    "\n",
    "# 📌 判斷簡訊是否含人名的函式\n",
    "def predict_person_name(text):\n",
    "    inputs = tokenizer(\n",
    "        text,\n",
    "        return_tensors=\"pt\",\n",
    "        truncation=True,\n",
    "        padding=True,\n",
    "        max_length=128\n",
    "    )\n",
    "\n",
    "    with torch.no_grad():\n",
    "        outputs = model(**inputs)\n",
    "        logits = outputs.logits\n",
    "        predicted_label = torch.argmax(logits, dim=1).item()\n",
    "\n",
    "    return \"✅ 含人名\" if predicted_label == 1 else \"❌ 不含人名\"\n",
    "\n",
    "# 📌 測試範例\n",
    "test_samples = [\n",
    "    \"[權益通知] 你將有機會與桂綸鎂、王柏傑一同參與Disney+《台北女子圖鑑》首映會! 活動詳情請見→ twm5g.co/aAWQ\",\n",
    "    \"請問您要保留或取消1月20日 19:30 日月潭力麗溫德姆溫泉酒店 饗沐 全日餐廳訂位嗎？點選連結回覆： https://iln.io/345dyt\",\n",
    "    \"預-Niseko羊蹄山杯送達六張黎店，限量編號A029205310請前往取貨，可至全家APP首頁>包裹查詢\",\n",
    "    \"【大樹速貸】最快5分鐘資金入袋!親愛的王朝龍先生，國泰世華銀行幫您馬上解決資金煩惱，數位申貸超簡單。資金快速入袋 https://cathaybk.tw/C3ACZ78YJ 。總費用年百分率3.62%~17.09%。\",\n",
    "]\n",
    "\n",
    "print(\"\\n📊 預測結果：\")\n",
    "for text in test_samples:\n",
    "    print(f\"👉 『{text}』 → {predict_person_name(text)}\")"
   ]
  }
 ],
 "metadata": {
  "colab": {
   "authorship_tag": "ABX9TyMJkPnlVwbhsJ+SIQrfLaTM",
   "provenance": []
  },
  "kernelspec": {
   "display_name": "Python 3",
   "name": "python3"
  },
  "language_info": {
   "name": "python"
  }
 },
 "nbformat": 4,
 "nbformat_minor": 0
}
