{
 "cells": [
  {
   "cell_type": "code",
   "execution_count": null,
   "metadata": {
    "id": "ltpbJIf8U0Qs"
   },
   "outputs": [],
   "source": [
    "import pandas as pd\n",
    "from zipfile import ZipFile\n",
    "from transformers import AutoTokenizer, BertForSequenceClassification\n",
    "import torch\n",
    "\n",
    "\n",
    "### 0. 上傳要檢查的 csv 檔 sms.csv ###\n",
    "###    上傳 train_name 產出的模型 zip ###\n",
    "# === 1. 解壓縮模型 zip（可略過若已解壓）\n",
    "with ZipFile(\"/content/model_results.zip\", 'r') as zip_ref:\n",
    "    zip_ref.extractall(\"results\")\n",
    "\n",
    "# === 2. 載入模型與 tokenizer\n",
    "dir = \"./results/results/final\"\n",
    "tokenizer = AutoTokenizer.from_pretrained(dir)\n",
    "model = BertForSequenceClassification.from_pretrained(dir)\n",
    "model.eval()\n",
    "\n",
    "# === 3. 讀取 CSV 檔案（包含簡訊文字欄位）\n",
    "df = pd.read_csv(\"sms.csv\")  # ✅ 你要預測的簡訊 CSV 檔案\n",
    "assert \"text\" in df.columns, \"⚠️ 請確認你的 CSV 包含 text 欄位\"\n",
    "\n",
    "# === 4. 定義預測函式（每筆簡訊）\n",
    "def predict_person_name(text):\n",
    "    inputs = tokenizer(\n",
    "        text,\n",
    "        return_tensors=\"pt\",\n",
    "        truncation=True,\n",
    "        padding=True,\n",
    "        max_length=128\n",
    "    )\n",
    "    with torch.no_grad():\n",
    "        outputs = model(**inputs)\n",
    "        logits = outputs.logits\n",
    "        predicted_label = torch.argmax(logits, dim=1).item()\n",
    "    return predicted_label  # 1 = 含人名, 0 = 不含人名\n",
    "\n",
    "# === 5. 套用到整個欄位，新增一欄結果\n",
    "df[\"has_person_name\"] = df[\"text\"].apply(predict_person_name)\n",
    "\n",
    "# ✅ 可選：轉為標籤顯示\n",
    "df[\"person_name_result\"] = df[\"has_person_name\"].map({1: \"✅ 含人名\", 0: \"❌ 不含人名\"})\n",
    "\n",
    "# === 6. 輸出結果到新的 CSV 檔\n",
    "df.to_csv(\"sms_with_name_predictions.csv\", index=False)\n",
    "print(\"✅ 預測完成，已輸出為 sms_with_name_predictions.csv\")"
   ]
  }
 ],
 "metadata": {
  "colab": {
   "authorship_tag": "ABX9TyMJkPnlVwbhsJ+SIQrfLaTM",
   "provenance": []
  },
  "kernelspec": {
   "display_name": "Python 3",
   "name": "python3"
  },
  "language_info": {
   "name": "python"
  }
 },
 "nbformat": 4,
 "nbformat_minor": 0
}
