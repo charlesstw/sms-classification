{
 "cells": [
  {
   "cell_type": "code",
   "execution_count": null,
   "metadata": {
    "id": "iWBvabbRT_BD"
   },
   "outputs": [],
   "source": [
    "# 📌 安裝必要套件（Colab 每次都需要執行）\n",
    "!pip install -U transformers datasets\n",
    "\n",
    "# 📌 匯入必要套件\n",
    "import pandas as pd\n",
    "from datasets import Dataset\n",
    "from transformers import AutoTokenizer, AutoModelForSequenceClassification, TrainingArguments, Trainer\n",
    "\n",
    "import transformers\n",
    "print(transformers.__version__)\n",
    "\n",
    "# 📌 載入資料集（請確認 sms_gpt_f2.csv 檔案已上傳）\n",
    "df = pd.read_csv(\"/content/drive/MyDrive/sms_gpt_f2.csv\")  # 需包含 \"text\" 和 \"label\" 欄位\n",
    "dataset = Dataset.from_pandas(df[[\"text\", \"label\"]])\n",
    "dataset = dataset.train_test_split(test_size=0.2)\n",
    "\n",
    "# 📌 初始化 tokenizer\n",
    "tokenizer = AutoTokenizer.from_pretrained(\"bert-base-chinese\")\n",
    "\n",
    "# 📌 Tokenize 資料\n",
    "def tokenize(example):\n",
    "    return tokenizer(example[\"text\"], truncation=True, padding=\"max_length\", max_length=128)\n",
    "\n",
    "tokenized = dataset.map(tokenize)\n",
    "\n",
    "# 📌 載入 BERT 模型做二分類\n",
    "model = AutoModelForSequenceClassification.from_pretrained(\"bert-base-chinese\", num_labels=2)\n",
    "\n",
    "# 📌 訓練參數\n",
    "training_args = TrainingArguments(\n",
    "    output_dir=\"./results\",\n",
    "    per_device_train_batch_size=16,\n",
    "    num_train_epochs=3,\n",
    "    eval_strategy=\"epoch\",\n",
    "    save_strategy=\"epoch\",\n",
    "    logging_dir=\"./logs\",\n",
    "    load_best_model_at_end=True,\n",
    "    report_to=\"none\"  # ✅ 關掉 wandb\n",
    ")\n",
    "\n",
    "# 📌 初始化 Trainer\n",
    "trainer = Trainer(\n",
    "    model=model,\n",
    "    args=training_args,\n",
    "    train_dataset=tokenized[\"train\"],\n",
    "    eval_dataset=tokenized[\"test\"]\n",
    ")\n",
    "\n",
    "# 📌 訓練與評估\n",
    "trainer.train()\n",
    "trainer.evaluate()\n",
    "\n",
    "# 📌 儲存模型與 tokenizer\n",
    "model.save_pretrained(\"./results/final\")\n",
    "tokenizer.save_pretrained(\"./results/final\")\n",
    "\n",
    "!zip -r model_results.zip ./results/final\n",
    "\n"
   ]
  },
  {
   "cell_type": "code",
   "execution_count": null,
   "metadata": {},
   "outputs": [],
   "source": []
  }
 ],
 "metadata": {
  "colab": {
   "authorship_tag": "ABX9TyP70pwkffXXTy0PTlKZzhAc",
   "provenance": []
  },
  "kernelspec": {
   "display_name": "Python 3",
   "name": "python3"
  },
  "language_info": {
   "name": "python"
  }
 },
 "nbformat": 4,
 "nbformat_minor": 0
}
