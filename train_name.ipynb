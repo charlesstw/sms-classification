{
 "cells": [
  {
   "cell_type": "code",
   "execution_count": null,
   "metadata": {
    "id": "iWBvabbRT_BD"
   },
   "outputs": [],
   "source": [
    "# 📌 安裝必要套件（Colab 每次都需要執行）\n",
    "# !pip install -U transformers datasets\n",
    "\n",
    "# 📌 Step 1: 匯入套件\n",
    "import pandas as pd\n",
    "import re\n",
    "# 📌 Step 2: 匯入 Hugging Face 的分類訓練工具\n",
    "from datasets import Dataset\n",
    "from transformers import AutoTokenizer, AutoModelForSequenceClassification, TrainingArguments, Trainer\n",
    "\n",
    "# 📌 Step 3: 載入簡訊資料與轉換格式\n",
    "df = pd.read_csv(\"sms_gpt_f2.csv\")  # 請替換成你自己的 CSV 檔，需包含 \"text\" 欄位\n",
    "dataset = Dataset.from_pandas(df[[\"text\", \"label\"]])\n",
    "dataset = dataset.train_test_split(test_size=0.2)\n",
    "\n",
    "# 📌 Step 4: Tokenizer 處理\n",
    "tokenizer = AutoTokenizer.from_pretrained(\"bert-base-chinese\")\n",
    "\n",
    "def tokenize(ex):\n",
    "    return tokenizer(ex[\"text\"], truncation=True, padding=\"max_length\", max_length=128)\n",
    "\n",
    "\n",
    "tokenized = dataset.map(tokenize)\n",
    "\n",
    "# 📌 Step 5: 建立 BERT 分類模型\n",
    "model = AutoModelForSequenceClassification.from_pretrained(\"bert-base-chinese\", num_labels=2)\n",
    "\n",
    "# 📌 Step 6: 設定訓練參數\n",
    "training_args = TrainingArguments(\n",
    "    output_dir=\"./results\",\n",
    "    per_device_train_batch_size=16,\n",
    "    num_train_epochs=3,\n",
    "    #eval_strategy=\"epoch\",\n",
    "    evaluation_strategy=\"epoch\",\n",
    "    save_strategy=\"epoch\",\n",
    "    logging_dir=\"./logs\",\n",
    "    load_best_model_at_end=True\n",
    ")\n",
    "\n",
    "# 📌 Step 7: 訓練與評估模型\n",
    "trainer = Trainer(\n",
    "    model=model,\n",
    "    args=training_args,\n",
    "    train_dataset=tokenized[\"train\"],\n",
    "    eval_dataset=tokenized[\"test\"]\n",
    ")\n",
    "\n",
    "trainer.train()\n",
    "trainer.evaluate()\n",
    "\n",
    "# 📌 Step 8: 儲存模型與 tokenizer\n",
    "tokenizer.save_pretrained(\"./results\")\n",
    "model.save_pretrained(\"./results\")"
   ]
  },
  {
   "cell_type": "code",
   "execution_count": null,
   "metadata": {},
   "outputs": [],
   "source": []
  }
 ],
 "metadata": {
  "colab": {
   "authorship_tag": "ABX9TyP70pwkffXXTy0PTlKZzhAc",
   "provenance": []
  },
  "kernelspec": {
   "display_name": "Python 3",
   "name": "python3"
  },
  "language_info": {
   "name": "python"
  }
 },
 "nbformat": 4,
 "nbformat_minor": 0
}
